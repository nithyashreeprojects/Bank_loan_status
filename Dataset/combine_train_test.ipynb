{
 "cells": [
  {
   "cell_type": "code",
   "execution_count": 1,
   "id": "26489944",
   "metadata": {},
   "outputs": [],
   "source": [
    "import pandas as pd\n",
    "from pathlib import Path"
   ]
  },
  {
   "cell_type": "code",
   "execution_count": 2,
   "id": "4badb1cc",
   "metadata": {},
   "outputs": [],
   "source": [
    "DATA_DIR= Path(\".\")\n",
    "train_path = DATA_DIR / \"credit_train.csv\"\n",
    "test_path = DATA_DIR / \"credit_test.csv\"\n",
    "out_path = DATA_DIR / \"bank_loans_master.csv\" "
   ]
  },
  {
   "cell_type": "code",
   "execution_count": 3,
   "id": "813793ac",
   "metadata": {},
   "outputs": [],
   "source": [
    "def load_normalise(path):\n",
    "    df=pd.read_csv(path)\n",
    "    df.columns=[c.strip().lower().replace(' ','_') for c in df.columns]\n",
    "    return df"
   ]
  },
  {
   "cell_type": "code",
   "execution_count": 4,
   "id": "252cb195",
   "metadata": {},
   "outputs": [
    {
     "name": "stdout",
     "output_type": "stream",
     "text": [
      "Loading and normalising train...\n",
      "Loading and normalising test...\n"
     ]
    }
   ],
   "source": [
    "print(\"Loading and normalising train...\")\n",
    "train_norm=load_normalise(train_path)\n",
    "print(\"Loading and normalising test...\")\n",
    "test_norm=load_normalise(test_path)"
   ]
  },
  {
   "cell_type": "code",
   "execution_count": 5,
   "id": "535d8e11",
   "metadata": {},
   "outputs": [
    {
     "name": "stdout",
     "output_type": "stream",
     "text": [
      "Reading files...\n"
     ]
    }
   ],
   "source": [
    "print(\"Reading files...\")\n",
    "train = train_norm\n",
    "test=test_norm"
   ]
  },
  {
   "cell_type": "code",
   "execution_count": 6,
   "id": "16edb19b",
   "metadata": {},
   "outputs": [
    {
     "name": "stdout",
     "output_type": "stream",
     "text": [
      "Train shape:  (100514, 19)\n",
      "Test shape:  (10353, 18)\n"
     ]
    }
   ],
   "source": [
    "print(\"Train shape: \",train.shape)\n",
    "print(\"Test shape: \",test.shape)"
   ]
  },
  {
   "cell_type": "code",
   "execution_count": 7,
   "id": "4edb6e03",
   "metadata": {},
   "outputs": [],
   "source": [
    "train_cols= set(train.columns)\n",
    "test_cols = set(test.columns)"
   ]
  },
  {
   "cell_type": "code",
   "execution_count": 8,
   "id": "c3854c10",
   "metadata": {},
   "outputs": [
    {
     "name": "stdout",
     "output_type": "stream",
     "text": [
      "Columns only in train:  ['loan_status']\n",
      "columns only in the test:  ['loan_status']\n"
     ]
    }
   ],
   "source": [
    "print(\"Columns only in train: \",sorted(list(train_cols - test_cols)))\n",
    "print(\"columns only in the test: \",sorted(list(train_cols-test_cols)))"
   ]
  },
  {
   "cell_type": "code",
   "execution_count": 9,
   "id": "4c9fb79a",
   "metadata": {},
   "outputs": [],
   "source": [
    "train['__source']='train'\n",
    "test['__source']='test'"
   ]
  },
  {
   "cell_type": "code",
   "execution_count": 10,
   "id": "58f77c53",
   "metadata": {},
   "outputs": [],
   "source": [
    "all_cols=list(dict.fromkeys(list(train.columns)+list(test.columns)))\n",
    "train = train.reindex(columns=all_cols)\n",
    "test=test.reindex(columns=all_cols)"
   ]
  },
  {
   "cell_type": "code",
   "execution_count": 11,
   "id": "6ffe4925",
   "metadata": {},
   "outputs": [
    {
     "name": "stdout",
     "output_type": "stream",
     "text": [
      "Master shape:  (110867, 20)\n"
     ]
    }
   ],
   "source": [
    "master = pd.concat([train,test],ignore_index=True)\n",
    "print(\"Master shape: \",master.shape)"
   ]
  },
  {
   "cell_type": "code",
   "execution_count": 12,
   "id": "b577c648",
   "metadata": {},
   "outputs": [
    {
     "name": "stdout",
     "output_type": "stream",
     "text": [
      "\n",
      "Value counts for __source:\n",
      " __source\n",
      "train    100514\n",
      "test      10353\n",
      "Name: count, dtype: int64\n",
      "\n",
      "Top missing counts:\n",
      " months_since_last_delinquent    59314\n",
      "credit_score                    22002\n",
      "annual_income                   22002\n",
      "loan_status                     10867\n",
      "years_in_current_job             5516\n",
      "bankruptcies                     1093\n",
      "tax_liens                         878\n",
      "maximum_open_credit               869\n",
      "loan_id                           867\n",
      "current_credit_balance            867\n",
      "number_of_credit_problems         867\n",
      "number_of_open_accounts           867\n",
      "monthly_debt                      867\n",
      "years_of_credit_history           867\n",
      "customer_id                       867\n",
      "purpose                           867\n",
      "home_ownership                    867\n",
      "term                              867\n",
      "current_loan_amount               867\n",
      "__source                            0\n",
      "dtype: int64\n"
     ]
    }
   ],
   "source": [
    "print(\"\\nValue counts for __source:\\n\", master['__source'].value_counts())\n",
    "print(\"\\nTop missing counts:\\n\", master.isna().sum().sort_values(ascending=False).head(20))"
   ]
  },
  {
   "cell_type": "code",
   "execution_count": 13,
   "id": "5885f260",
   "metadata": {},
   "outputs": [
    {
     "name": "stdout",
     "output_type": "stream",
     "text": [
      "\n",
      "Saved combined master csv to /Users/starboy/Documents/Projects/Bank_loan_status/Dataset/bank_loans_master.csv\n"
     ]
    }
   ],
   "source": [
    "master.to_csv(out_path,index=False)\n",
    "print(f\"\\nSaved combined master csv to {out_path.resolve()}\")"
   ]
  },
  {
   "cell_type": "code",
   "execution_count": 14,
   "id": "4ef70a9d",
   "metadata": {},
   "outputs": [
    {
     "name": "stdout",
     "output_type": "stream",
     "text": [
      "CSV files in current directory:\n",
      "  • credit_test.csv\n",
      "  • bank_loans_master.csv\n",
      "  • credit_train.csv\n"
     ]
    }
   ],
   "source": [
    "import os\n",
    "csv_files = [f for f in os.listdir('.') if f.endswith('.csv')]\n",
    "print(\"CSV files in current directory:\")\n",
    "for f in csv_files:\n",
    "    print(f\"  • {f}\")\n"
   ]
  }
 ],
 "metadata": {
  "kernelspec": {
   "display_name": "base",
   "language": "python",
   "name": "python3"
  },
  "language_info": {
   "codemirror_mode": {
    "name": "ipython",
    "version": 3
   },
   "file_extension": ".py",
   "mimetype": "text/x-python",
   "name": "python",
   "nbconvert_exporter": "python",
   "pygments_lexer": "ipython3",
   "version": "3.13.5"
  }
 },
 "nbformat": 4,
 "nbformat_minor": 5
}
