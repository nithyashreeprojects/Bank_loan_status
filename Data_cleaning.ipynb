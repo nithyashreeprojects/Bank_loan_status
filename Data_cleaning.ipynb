{
 "cells": [
  {
   "cell_type": "markdown",
   "id": "c3cb2a0a",
   "metadata": {},
   "source": [
    "Import libraries"
   ]
  },
  {
   "cell_type": "code",
   "execution_count": 1,
   "id": "968c6436",
   "metadata": {},
   "outputs": [],
   "source": [
    "import pandas as pd\n",
    "import numpy as np"
   ]
  },
  {
   "cell_type": "markdown",
   "id": "760a5992",
   "metadata": {},
   "source": [
    "Load the dataset"
   ]
  },
  {
   "cell_type": "code",
   "execution_count": 2,
   "id": "de8b7ce3",
   "metadata": {},
   "outputs": [],
   "source": [
    "data_path='credit_train.csv'"
   ]
  },
  {
   "cell_type": "markdown",
   "id": "4859b743",
   "metadata": {},
   "source": [
    "Normalise column names"
   ]
  },
  {
   "cell_type": "code",
   "execution_count": 3,
   "id": "1b90c90b",
   "metadata": {},
   "outputs": [],
   "source": [
    "def load_normalize(path):\n",
    "    df = pd.read_csv(path)\n",
    "    df.columns = [c.lower().strip().replace(' ','_') for c in df.columns]\n",
    "    return df"
   ]
  },
  {
   "cell_type": "code",
   "execution_count": 4,
   "id": "b4fccc2d",
   "metadata": {},
   "outputs": [],
   "source": [
    "df=load_normalize(data_path)"
   ]
  },
  {
   "cell_type": "markdown",
   "id": "f2cdb841",
   "metadata": {},
   "source": [
    "Basic Exploration"
   ]
  },
  {
   "cell_type": "code",
   "execution_count": 5,
   "id": "add6a7aa",
   "metadata": {},
   "outputs": [
    {
     "name": "stdout",
     "output_type": "stream",
     "text": [
      "Dataset shape: (100514, 19)\n",
      "Columns: ['loan_id', 'customer_id', 'loan_status', 'current_loan_amount', 'term', 'credit_score', 'annual_income', 'years_in_current_job', 'home_ownership', 'purpose', 'monthly_debt', 'years_of_credit_history', 'months_since_last_delinquent', 'number_of_open_accounts', 'number_of_credit_problems', 'current_credit_balance', 'maximum_open_credit', 'bankruptcies', 'tax_liens']\n",
      "\n",
      "First 5 rows: \n"
     ]
    },
    {
     "data": {
      "text/html": [
       "<div>\n",
       "<style scoped>\n",
       "    .dataframe tbody tr th:only-of-type {\n",
       "        vertical-align: middle;\n",
       "    }\n",
       "\n",
       "    .dataframe tbody tr th {\n",
       "        vertical-align: top;\n",
       "    }\n",
       "\n",
       "    .dataframe thead th {\n",
       "        text-align: right;\n",
       "    }\n",
       "</style>\n",
       "<table border=\"1\" class=\"dataframe\">\n",
       "  <thead>\n",
       "    <tr style=\"text-align: right;\">\n",
       "      <th></th>\n",
       "      <th>loan_id</th>\n",
       "      <th>customer_id</th>\n",
       "      <th>loan_status</th>\n",
       "      <th>current_loan_amount</th>\n",
       "      <th>term</th>\n",
       "      <th>credit_score</th>\n",
       "      <th>annual_income</th>\n",
       "      <th>years_in_current_job</th>\n",
       "      <th>home_ownership</th>\n",
       "      <th>purpose</th>\n",
       "      <th>monthly_debt</th>\n",
       "      <th>years_of_credit_history</th>\n",
       "      <th>months_since_last_delinquent</th>\n",
       "      <th>number_of_open_accounts</th>\n",
       "      <th>number_of_credit_problems</th>\n",
       "      <th>current_credit_balance</th>\n",
       "      <th>maximum_open_credit</th>\n",
       "      <th>bankruptcies</th>\n",
       "      <th>tax_liens</th>\n",
       "    </tr>\n",
       "  </thead>\n",
       "  <tbody>\n",
       "    <tr>\n",
       "      <th>0</th>\n",
       "      <td>14dd8831-6af5-400b-83ec-68e61888a048</td>\n",
       "      <td>981165ec-3274-42f5-a3b4-d104041a9ca9</td>\n",
       "      <td>Fully Paid</td>\n",
       "      <td>445412.0</td>\n",
       "      <td>Short Term</td>\n",
       "      <td>709.0</td>\n",
       "      <td>1167493.0</td>\n",
       "      <td>8 years</td>\n",
       "      <td>Home Mortgage</td>\n",
       "      <td>Home Improvements</td>\n",
       "      <td>5214.74</td>\n",
       "      <td>17.2</td>\n",
       "      <td>NaN</td>\n",
       "      <td>6.0</td>\n",
       "      <td>1.0</td>\n",
       "      <td>228190.0</td>\n",
       "      <td>416746.0</td>\n",
       "      <td>1.0</td>\n",
       "      <td>0.0</td>\n",
       "    </tr>\n",
       "    <tr>\n",
       "      <th>1</th>\n",
       "      <td>4771cc26-131a-45db-b5aa-537ea4ba5342</td>\n",
       "      <td>2de017a3-2e01-49cb-a581-08169e83be29</td>\n",
       "      <td>Fully Paid</td>\n",
       "      <td>262328.0</td>\n",
       "      <td>Short Term</td>\n",
       "      <td>NaN</td>\n",
       "      <td>NaN</td>\n",
       "      <td>10+ years</td>\n",
       "      <td>Home Mortgage</td>\n",
       "      <td>Debt Consolidation</td>\n",
       "      <td>33295.98</td>\n",
       "      <td>21.1</td>\n",
       "      <td>8.0</td>\n",
       "      <td>35.0</td>\n",
       "      <td>0.0</td>\n",
       "      <td>229976.0</td>\n",
       "      <td>850784.0</td>\n",
       "      <td>0.0</td>\n",
       "      <td>0.0</td>\n",
       "    </tr>\n",
       "    <tr>\n",
       "      <th>2</th>\n",
       "      <td>4eed4e6a-aa2f-4c91-8651-ce984ee8fb26</td>\n",
       "      <td>5efb2b2b-bf11-4dfd-a572-3761a2694725</td>\n",
       "      <td>Fully Paid</td>\n",
       "      <td>99999999.0</td>\n",
       "      <td>Short Term</td>\n",
       "      <td>741.0</td>\n",
       "      <td>2231892.0</td>\n",
       "      <td>8 years</td>\n",
       "      <td>Own Home</td>\n",
       "      <td>Debt Consolidation</td>\n",
       "      <td>29200.53</td>\n",
       "      <td>14.9</td>\n",
       "      <td>29.0</td>\n",
       "      <td>18.0</td>\n",
       "      <td>1.0</td>\n",
       "      <td>297996.0</td>\n",
       "      <td>750090.0</td>\n",
       "      <td>0.0</td>\n",
       "      <td>0.0</td>\n",
       "    </tr>\n",
       "    <tr>\n",
       "      <th>3</th>\n",
       "      <td>77598f7b-32e7-4e3b-a6e5-06ba0d98fe8a</td>\n",
       "      <td>e777faab-98ae-45af-9a86-7ce5b33b1011</td>\n",
       "      <td>Fully Paid</td>\n",
       "      <td>347666.0</td>\n",
       "      <td>Long Term</td>\n",
       "      <td>721.0</td>\n",
       "      <td>806949.0</td>\n",
       "      <td>3 years</td>\n",
       "      <td>Own Home</td>\n",
       "      <td>Debt Consolidation</td>\n",
       "      <td>8741.90</td>\n",
       "      <td>12.0</td>\n",
       "      <td>NaN</td>\n",
       "      <td>9.0</td>\n",
       "      <td>0.0</td>\n",
       "      <td>256329.0</td>\n",
       "      <td>386958.0</td>\n",
       "      <td>0.0</td>\n",
       "      <td>0.0</td>\n",
       "    </tr>\n",
       "    <tr>\n",
       "      <th>4</th>\n",
       "      <td>d4062e70-befa-4995-8643-a0de73938182</td>\n",
       "      <td>81536ad9-5ccf-4eb8-befb-47a4d608658e</td>\n",
       "      <td>Fully Paid</td>\n",
       "      <td>176220.0</td>\n",
       "      <td>Short Term</td>\n",
       "      <td>NaN</td>\n",
       "      <td>NaN</td>\n",
       "      <td>5 years</td>\n",
       "      <td>Rent</td>\n",
       "      <td>Debt Consolidation</td>\n",
       "      <td>20639.70</td>\n",
       "      <td>6.1</td>\n",
       "      <td>NaN</td>\n",
       "      <td>15.0</td>\n",
       "      <td>0.0</td>\n",
       "      <td>253460.0</td>\n",
       "      <td>427174.0</td>\n",
       "      <td>0.0</td>\n",
       "      <td>0.0</td>\n",
       "    </tr>\n",
       "  </tbody>\n",
       "</table>\n",
       "</div>"
      ],
      "text/plain": [
       "                                loan_id                           customer_id  \\\n",
       "0  14dd8831-6af5-400b-83ec-68e61888a048  981165ec-3274-42f5-a3b4-d104041a9ca9   \n",
       "1  4771cc26-131a-45db-b5aa-537ea4ba5342  2de017a3-2e01-49cb-a581-08169e83be29   \n",
       "2  4eed4e6a-aa2f-4c91-8651-ce984ee8fb26  5efb2b2b-bf11-4dfd-a572-3761a2694725   \n",
       "3  77598f7b-32e7-4e3b-a6e5-06ba0d98fe8a  e777faab-98ae-45af-9a86-7ce5b33b1011   \n",
       "4  d4062e70-befa-4995-8643-a0de73938182  81536ad9-5ccf-4eb8-befb-47a4d608658e   \n",
       "\n",
       "  loan_status  current_loan_amount        term  credit_score  annual_income  \\\n",
       "0  Fully Paid             445412.0  Short Term         709.0      1167493.0   \n",
       "1  Fully Paid             262328.0  Short Term           NaN            NaN   \n",
       "2  Fully Paid           99999999.0  Short Term         741.0      2231892.0   \n",
       "3  Fully Paid             347666.0   Long Term         721.0       806949.0   \n",
       "4  Fully Paid             176220.0  Short Term           NaN            NaN   \n",
       "\n",
       "  years_in_current_job home_ownership             purpose  monthly_debt  \\\n",
       "0              8 years  Home Mortgage   Home Improvements       5214.74   \n",
       "1            10+ years  Home Mortgage  Debt Consolidation      33295.98   \n",
       "2              8 years       Own Home  Debt Consolidation      29200.53   \n",
       "3              3 years       Own Home  Debt Consolidation       8741.90   \n",
       "4              5 years           Rent  Debt Consolidation      20639.70   \n",
       "\n",
       "   years_of_credit_history  months_since_last_delinquent  \\\n",
       "0                     17.2                           NaN   \n",
       "1                     21.1                           8.0   \n",
       "2                     14.9                          29.0   \n",
       "3                     12.0                           NaN   \n",
       "4                      6.1                           NaN   \n",
       "\n",
       "   number_of_open_accounts  number_of_credit_problems  current_credit_balance  \\\n",
       "0                      6.0                        1.0                228190.0   \n",
       "1                     35.0                        0.0                229976.0   \n",
       "2                     18.0                        1.0                297996.0   \n",
       "3                      9.0                        0.0                256329.0   \n",
       "4                     15.0                        0.0                253460.0   \n",
       "\n",
       "   maximum_open_credit  bankruptcies  tax_liens  \n",
       "0             416746.0           1.0        0.0  \n",
       "1             850784.0           0.0        0.0  \n",
       "2             750090.0           0.0        0.0  \n",
       "3             386958.0           0.0        0.0  \n",
       "4             427174.0           0.0        0.0  "
      ]
     },
     "execution_count": 5,
     "metadata": {},
     "output_type": "execute_result"
    }
   ],
   "source": [
    "print(f\"Dataset shape: {df.shape}\")\n",
    "print(f\"Columns: {df.columns.tolist()}\")\n",
    "print(f\"\\nFirst 5 rows: \")\n",
    "df.head()"
   ]
  },
  {
   "cell_type": "markdown",
   "id": "36fb4e1a",
   "metadata": {},
   "source": [
    "Check Datatypes"
   ]
  },
  {
   "cell_type": "code",
   "execution_count": 6,
   "id": "d0933c77",
   "metadata": {},
   "outputs": [
    {
     "name": "stdout",
     "output_type": "stream",
     "text": [
      "<class 'pandas.core.frame.DataFrame'>\n",
      "RangeIndex: 100514 entries, 0 to 100513\n",
      "Data columns (total 19 columns):\n",
      " #   Column                        Non-Null Count   Dtype  \n",
      "---  ------                        --------------   -----  \n",
      " 0   loan_id                       100000 non-null  object \n",
      " 1   customer_id                   100000 non-null  object \n",
      " 2   loan_status                   100000 non-null  object \n",
      " 3   current_loan_amount           100000 non-null  float64\n",
      " 4   term                          100000 non-null  object \n",
      " 5   credit_score                  80846 non-null   float64\n",
      " 6   annual_income                 80846 non-null   float64\n",
      " 7   years_in_current_job          95778 non-null   object \n",
      " 8   home_ownership                100000 non-null  object \n",
      " 9   purpose                       100000 non-null  object \n",
      " 10  monthly_debt                  100000 non-null  float64\n",
      " 11  years_of_credit_history       100000 non-null  float64\n",
      " 12  months_since_last_delinquent  46859 non-null   float64\n",
      " 13  number_of_open_accounts       100000 non-null  float64\n",
      " 14  number_of_credit_problems     100000 non-null  float64\n",
      " 15  current_credit_balance        100000 non-null  float64\n",
      " 16  maximum_open_credit           99998 non-null   float64\n",
      " 17  bankruptcies                  99796 non-null   float64\n",
      " 18  tax_liens                     99990 non-null   float64\n",
      "dtypes: float64(12), object(7)\n",
      "memory usage: 14.6+ MB\n",
      "\n",
      "Data info: None\n"
     ]
    }
   ],
   "source": [
    "print(f\"\\nData info: {df.info()}\")"
   ]
  },
  {
   "cell_type": "code",
   "execution_count": 7,
   "id": "8a7d8914",
   "metadata": {},
   "outputs": [
    {
     "name": "stdout",
     "output_type": "stream",
     "text": [
      "\n",
      "Missing Values: \n",
      "loan_id                           514\n",
      "customer_id                       514\n",
      "loan_status                       514\n",
      "current_loan_amount               514\n",
      "term                              514\n",
      "credit_score                    19668\n",
      "annual_income                   19668\n",
      "years_in_current_job             4736\n",
      "home_ownership                    514\n",
      "purpose                           514\n",
      "monthly_debt                      514\n",
      "years_of_credit_history           514\n",
      "months_since_last_delinquent    53655\n",
      "number_of_open_accounts           514\n",
      "number_of_credit_problems         514\n",
      "current_credit_balance            514\n",
      "maximum_open_credit               516\n",
      "bankruptcies                      718\n",
      "tax_liens                         524\n",
      "dtype: int64\n"
     ]
    }
   ],
   "source": [
    "print(f\"\\nMissing Values: \")\n",
    "print(df.isnull().sum())"
   ]
  },
  {
   "cell_type": "markdown",
   "id": "cc87e287",
   "metadata": {},
   "source": [
    "Create a copy for cleaning"
   ]
  },
  {
   "cell_type": "code",
   "execution_count": 8,
   "id": "bcc07b7d",
   "metadata": {},
   "outputs": [],
   "source": [
    "dfc = df.copy()"
   ]
  },
  {
   "cell_type": "code",
   "execution_count": 9,
   "id": "81701902",
   "metadata": {},
   "outputs": [
    {
     "name": "stdout",
     "output_type": "stream",
     "text": [
      "Null values for loan_status is: 514\n"
     ]
    }
   ],
   "source": [
    "print(f\"Null values for loan_status is: {dfc['loan_status'].isnull().sum()}\")"
   ]
  },
  {
   "cell_type": "code",
   "execution_count": 10,
   "id": "9c8a71a7",
   "metadata": {},
   "outputs": [
    {
     "name": "stdout",
     "output_type": "stream",
     "text": [
      "After removing missing loan status: 100000 records\n"
     ]
    }
   ],
   "source": [
    "dfc=dfc.dropna(subset=['loan_status'])\n",
    "print(f\"After removing missing loan status: {len(dfc)} records\")"
   ]
  },
  {
   "cell_type": "code",
   "execution_count": 11,
   "id": "2bb32fa6",
   "metadata": {},
   "outputs": [
    {
     "name": "stdout",
     "output_type": "stream",
     "text": [
      "loan_id                             0\n",
      "customer_id                         0\n",
      "loan_status                         0\n",
      "current_loan_amount                 0\n",
      "term                                0\n",
      "credit_score                    19154\n",
      "annual_income                   19154\n",
      "years_in_current_job             4222\n",
      "home_ownership                      0\n",
      "purpose                             0\n",
      "monthly_debt                        0\n",
      "years_of_credit_history             0\n",
      "months_since_last_delinquent    53141\n",
      "number_of_open_accounts             0\n",
      "number_of_credit_problems           0\n",
      "current_credit_balance              0\n",
      "maximum_open_credit                 2\n",
      "bankruptcies                      204\n",
      "tax_liens                          10\n",
      "dtype: int64\n"
     ]
    }
   ],
   "source": [
    "print(dfc.isnull().sum())"
   ]
  },
  {
   "cell_type": "markdown",
   "id": "499d666c",
   "metadata": {},
   "source": [
    "Data Range Validation"
   ]
  },
  {
   "cell_type": "code",
   "execution_count": 12,
   "id": "ba7ef20d",
   "metadata": {},
   "outputs": [
    {
     "name": "stdout",
     "output_type": "stream",
     "text": [
      "Validating data ranges before imputation: \n",
      "Credit Score Range: 585 to 7510\n",
      "Loan Amount Range: $10,802 to $99,999,999\n",
      "Annual Income Range: $76,627 to $165,557,393\n"
     ]
    }
   ],
   "source": [
    "print(\"Validating data ranges before imputation: \")\n",
    "\n",
    "print(f\"Credit Score Range: {dfc['credit_score'].min():.0f} to {dfc['credit_score'].max():.0f}\")\n",
    "print(f\"Loan Amount Range: ${dfc['current_loan_amount'].min():,.0f} to ${dfc['current_loan_amount'].max():,.0f}\")\n",
    "print(f\"Annual Income Range: ${dfc['annual_income'].min():,.0f} to ${dfc['annual_income'].max():,.0f}\")"
   ]
  },
  {
   "cell_type": "markdown",
   "id": "d3bf8ee4",
   "metadata": {},
   "source": [
    "Credit scores must be from 300-850"
   ]
  },
  {
   "cell_type": "code",
   "execution_count": 13,
   "id": "8827b378",
   "metadata": {},
   "outputs": [
    {
     "name": "stdout",
     "output_type": "stream",
     "text": [
      "\n",
      "1. Fixing Credit Scores:\n",
      "   Invalid credit scores found: 4551\n"
     ]
    }
   ],
   "source": [
    "print(f\"\\n1. Fixing Credit Scores:\")\n",
    "invalid_credit_count = ((dfc['credit_score'] < 300) | (dfc['credit_score'] > 850)).sum()\n",
    "print(f\"   Invalid credit scores found: {invalid_credit_count}\")"
   ]
  },
  {
   "cell_type": "code",
   "execution_count": 14,
   "id": "5f830dcf",
   "metadata": {},
   "outputs": [
    {
     "name": "stdout",
     "output_type": "stream",
     "text": [
      "   ✓ Capped credit scores to 300-850 range\n"
     ]
    }
   ],
   "source": [
    "dfc.loc[dfc['credit_score'] < 300, 'credit_score'] = 300\n",
    "dfc.loc[dfc['credit_score'] > 850, 'credit_score'] = 850\n",
    "print(f\"   ✓ Capped credit scores to 300-850 range\")"
   ]
  },
  {
   "cell_type": "markdown",
   "id": "d1caf4b7",
   "metadata": {},
   "source": [
    "Fix Loan Amounts (remove 999999999 placeholders)"
   ]
  },
  {
   "cell_type": "code",
   "execution_count": 15,
   "id": "8510be17",
   "metadata": {},
   "outputs": [
    {
     "name": "stdout",
     "output_type": "stream",
     "text": [
      "\n",
      "2. Fixing Loan Amounts:\n",
      "   Placeholder loan amounts found: 11484\n"
     ]
    }
   ],
   "source": [
    "print(f\"\\n2. Fixing Loan Amounts:\")\n",
    "placeholder_loans = (dfc['current_loan_amount'] >= 99999999).sum()\n",
    "print(f\"   Placeholder loan amounts found: {placeholder_loans}\")"
   ]
  },
  {
   "cell_type": "markdown",
   "id": "4449a245",
   "metadata": {},
   "source": [
    "replace with realistic median"
   ]
  },
  {
   "cell_type": "code",
   "execution_count": 16,
   "id": "728918a5",
   "metadata": {},
   "outputs": [],
   "source": [
    "realistic_loans = dfc[(dfc['current_loan_amount'] > 1000) & (dfc['current_loan_amount'] < 1000000)]['current_loan_amount']\n",
    "realistic_loan_median = realistic_loans.median()"
   ]
  },
  {
   "cell_type": "code",
   "execution_count": 17,
   "id": "1b1ff30e",
   "metadata": {},
   "outputs": [
    {
     "name": "stdout",
     "output_type": "stream",
     "text": [
      "   ✓ Replaced 11484 placeholder values with $267,344\n"
     ]
    }
   ],
   "source": [
    "dfc.loc[dfc['current_loan_amount'] >= 99999999, 'current_loan_amount'] = realistic_loan_median\n",
    "print(f\"   ✓ Replaced {placeholder_loans} placeholder values with ${realistic_loan_median:,.0f}\")\n"
   ]
  },
  {
   "cell_type": "markdown",
   "id": "2934972c",
   "metadata": {},
   "source": [
    "Fix extreme incomes"
   ]
  },
  {
   "cell_type": "code",
   "execution_count": 18,
   "id": "0043e370",
   "metadata": {},
   "outputs": [
    {
     "name": "stdout",
     "output_type": "stream",
     "text": [
      "\n",
      "3. Fixing Annual income\n",
      "   ✓ Fixed 68 extreme income values\n"
     ]
    }
   ],
   "source": [
    "print(f\"\\n3. Fixing Annual income\")\n",
    "extreme_income_count = (dfc['annual_income'] > 10000000).sum()\n",
    "if extreme_income_count > 0:\n",
    "    reasonable_incomes = dfc[(dfc['annual_income'] >= 10000) & (dfc['annual_income'] <= 1000000)]['annual_income']\n",
    "    reasonable_income_median = reasonable_incomes.median()\n",
    "    \n",
    "    dfc.loc[dfc['annual_income'] > 10000000, 'annual_income'] = reasonable_income_median\n",
    "    print(f\"   ✓ Fixed {extreme_income_count} extreme income values\")"
   ]
  },
  {
   "cell_type": "code",
   "execution_count": 19,
   "id": "fcb39118",
   "metadata": {},
   "outputs": [
    {
     "name": "stdout",
     "output_type": "stream",
     "text": [
      "\n",
      "Data ranges corrected!\n",
      "New Credit Score Range: 585 to 850\n",
      "New Loan Amount Range: $10,802 to $789,250\n",
      "New Income Range: $76,627 to $9,939,280\n"
     ]
    }
   ],
   "source": [
    "print(f\"\\nData ranges corrected!\")\n",
    "print(f\"New Credit Score Range: {dfc['credit_score'].min():.0f} to {dfc['credit_score'].max():.0f}\")\n",
    "print(f\"New Loan Amount Range: ${dfc['current_loan_amount'].min():,.0f} to ${dfc['current_loan_amount'].max():,.0f}\")\n",
    "print(f\"New Income Range: ${dfc['annual_income'].min():,.0f} to ${dfc['annual_income'].max():,.0f}\")\n"
   ]
  },
  {
   "cell_type": "code",
   "execution_count": 20,
   "id": "5164b137",
   "metadata": {},
   "outputs": [],
   "source": [
    "numerical_cols=[\n",
    "                'credit_score',\n",
    "                'annual_income',\n",
    "                'monthly_debt',\n",
    "                'years_of_credit_history',\n",
    "                'months_since_last_delinquent',\n",
    "                'number_of_open_accounts',\n",
    "                'number_of_credit_problems',\n",
    "                'current_credit_balance',\n",
    "                'maximum_open_credit',\n",
    "                'bankruptcies',\n",
    "                'tax_liens']"
   ]
  },
  {
   "cell_type": "code",
   "execution_count": 21,
   "id": "71eb977d",
   "metadata": {},
   "outputs": [],
   "source": [
    "imputation_cols = [col for col in numerical_cols if col != 'current_loan_amount']"
   ]
  },
  {
   "cell_type": "code",
   "execution_count": 22,
   "id": "72a5d8a1",
   "metadata": {},
   "outputs": [
    {
     "name": "stdout",
     "output_type": "stream",
     "text": [
      "   ✓ credit_score: Imputed 19,154 values with 724.0\n",
      "   ✓ annual_income: Imputed 19,154 values with 1171882.0\n",
      "   ✓ months_since_last_delinquent: Imputed 53,141 values with 32.0\n",
      "   ✓ maximum_open_credit: Imputed 2 values with 467874.0\n",
      "   ✓ bankruptcies: Imputed 204 values with 0.0\n",
      "   ✓ tax_liens: Imputed 10 values with 0.0\n",
      "\n",
      "Numerical imputation completed with realistic values!\n"
     ]
    }
   ],
   "source": [
    "for col in imputation_cols:\n",
    "    missing_count = dfc[col].isnull().sum()\n",
    "    if missing_count > 0:\n",
    "        # Use median of existing values (now that extremes are removed)\n",
    "        median_val = dfc[col].median()\n",
    "        dfc[col] = dfc[col].fillna(median_val)\n",
    "        print(f\"   ✓ {col}: Imputed {missing_count:,} values with {median_val}\")\n",
    "\n",
    "print(\"\\nNumerical imputation completed with realistic values!\")"
   ]
  },
  {
   "cell_type": "code",
   "execution_count": 23,
   "id": "b699fe3c",
   "metadata": {},
   "outputs": [
    {
     "data": {
      "text/plain": [
       "loan_id                            0\n",
       "customer_id                        0\n",
       "loan_status                        0\n",
       "current_loan_amount                0\n",
       "term                               0\n",
       "credit_score                       0\n",
       "annual_income                      0\n",
       "years_in_current_job            4222\n",
       "home_ownership                     0\n",
       "purpose                            0\n",
       "monthly_debt                       0\n",
       "years_of_credit_history            0\n",
       "months_since_last_delinquent       0\n",
       "number_of_open_accounts            0\n",
       "number_of_credit_problems          0\n",
       "current_credit_balance             0\n",
       "maximum_open_credit                0\n",
       "bankruptcies                       0\n",
       "tax_liens                          0\n",
       "dtype: int64"
      ]
     },
     "execution_count": 23,
     "metadata": {},
     "output_type": "execute_result"
    }
   ],
   "source": [
    "dfc.isnull().sum()"
   ]
  },
  {
   "cell_type": "markdown",
   "id": "ee71832f",
   "metadata": {},
   "source": [
    "Categorical imputation"
   ]
  },
  {
   "cell_type": "code",
   "execution_count": 24,
   "id": "baa2dff0",
   "metadata": {},
   "outputs": [
    {
     "name": "stdout",
     "output_type": "stream",
     "text": [
      "Imputed 4222 missing ‘years_in_current_job’ values with 'Unknown'\n"
     ]
    },
    {
     "name": "stderr",
     "output_type": "stream",
     "text": [
      "/var/folders/_w/n63k25_948b11n_ktsfq3_dh0000gn/T/ipykernel_10937/1359528712.py:2: FutureWarning: A value is trying to be set on a copy of a DataFrame or Series through chained assignment using an inplace method.\n",
      "The behavior will change in pandas 3.0. This inplace method will never work because the intermediate object on which we are setting values always behaves as a copy.\n",
      "\n",
      "For example, when doing 'df[col].method(value, inplace=True)', try using 'df.method({col: value}, inplace=True)' or df[col] = df[col].method(value) instead, to perform the operation inplace on the original object.\n",
      "\n",
      "\n",
      "  dfc['years_in_current_job'].fillna('Unknown', inplace=True)\n"
     ]
    }
   ],
   "source": [
    "impute_count = dfc['years_in_current_job'].isnull().sum()\n",
    "dfc['years_in_current_job'].fillna('Unknown', inplace=True)\n",
    "print(f\"Imputed {impute_count} missing ‘years_in_current_job’ values with 'Unknown'\")"
   ]
  },
  {
   "cell_type": "code",
   "execution_count": 25,
   "id": "d9b1ae82",
   "metadata": {},
   "outputs": [
    {
     "name": "stdout",
     "output_type": "stream",
     "text": [
      "loan_id                         0\n",
      "customer_id                     0\n",
      "loan_status                     0\n",
      "current_loan_amount             0\n",
      "term                            0\n",
      "credit_score                    0\n",
      "annual_income                   0\n",
      "years_in_current_job            0\n",
      "home_ownership                  0\n",
      "purpose                         0\n",
      "monthly_debt                    0\n",
      "years_of_credit_history         0\n",
      "months_since_last_delinquent    0\n",
      "number_of_open_accounts         0\n",
      "number_of_credit_problems       0\n",
      "current_credit_balance          0\n",
      "maximum_open_credit             0\n",
      "bankruptcies                    0\n",
      "tax_liens                       0\n",
      "dtype: int64\n"
     ]
    }
   ],
   "source": [
    "print(dfc.isnull().sum())"
   ]
  },
  {
   "cell_type": "code",
   "execution_count": 26,
   "id": "71653583",
   "metadata": {},
   "outputs": [
    {
     "name": "stdout",
     "output_type": "stream",
     "text": [
      "Cleaned dataset is saved\n"
     ]
    }
   ],
   "source": [
    "dfc.to_csv(\"Cleaned_data.csv\",index=False)\n",
    "print(\"Cleaned dataset is saved\")"
   ]
  },
  {
   "cell_type": "code",
   "execution_count": 27,
   "id": "890adfcd",
   "metadata": {},
   "outputs": [
    {
     "name": "stdout",
     "output_type": "stream",
     "text": [
      "Saved fully cleaned data as 'credit_train_fully_cleaned.csv'\n"
     ]
    }
   ],
   "source": [
    "dfc.to_csv('credit_cleaned.csv', index=False)\n",
    "print(\"Saved fully cleaned data as 'credit_train_fully_cleaned.csv'\")"
   ]
  }
 ],
 "metadata": {
  "kernelspec": {
   "display_name": "base",
   "language": "python",
   "name": "python3"
  },
  "language_info": {
   "codemirror_mode": {
    "name": "ipython",
    "version": 3
   },
   "file_extension": ".py",
   "mimetype": "text/x-python",
   "name": "python",
   "nbconvert_exporter": "python",
   "pygments_lexer": "ipython3",
   "version": "3.13.5"
  }
 },
 "nbformat": 4,
 "nbformat_minor": 5
}
