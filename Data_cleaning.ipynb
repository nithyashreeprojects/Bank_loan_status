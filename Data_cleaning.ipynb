{
 "cells": [
  {
   "cell_type": "markdown",
   "id": "c3cb2a0a",
   "metadata": {},
   "source": [
    "Import libraries"
   ]
  },
  {
   "cell_type": "code",
   "execution_count": 1,
   "id": "968c6436",
   "metadata": {},
   "outputs": [],
   "source": [
    "import pandas as pd\n",
    "import numpy as np"
   ]
  },
  {
   "cell_type": "markdown",
   "id": "760a5992",
   "metadata": {},
   "source": [
    "Load the dataset"
   ]
  },
  {
   "cell_type": "code",
   "execution_count": 2,
   "id": "de8b7ce3",
   "metadata": {},
   "outputs": [],
   "source": [
    "data_path='/Users/starboy/Documents/Projects/Bank_loan_status/Dataset/credit_train.csv'"
   ]
  },
  {
   "cell_type": "markdown",
   "id": "4859b743",
   "metadata": {},
   "source": [
    "Normalise column names"
   ]
  },
  {
   "cell_type": "code",
   "execution_count": 3,
   "id": "1b90c90b",
   "metadata": {},
   "outputs": [],
   "source": [
    "def load_normalize(path):\n",
    "    df = pd.read_csv(path)\n",
    "    df.columns = [c.lower().strip().replace(' ','_') for c in df.columns]\n",
    "    return df"
   ]
  },
  {
   "cell_type": "code",
   "execution_count": 4,
   "id": "b4fccc2d",
   "metadata": {},
   "outputs": [],
   "source": [
    "df=load_normalize(data_path)"
   ]
  },
  {
   "cell_type": "markdown",
   "id": "f2cdb841",
   "metadata": {},
   "source": [
    "Basic Exploration"
   ]
  },
  {
   "cell_type": "code",
   "execution_count": 5,
   "id": "add6a7aa",
   "metadata": {},
   "outputs": [
    {
     "name": "stdout",
     "output_type": "stream",
     "text": [
      "Dataset shape: (100514, 19)\n",
      "Columns: ['loan_id', 'customer_id', 'loan_status', 'current_loan_amount', 'term', 'credit_score', 'annual_income', 'years_in_current_job', 'home_ownership', 'purpose', 'monthly_debt', 'years_of_credit_history', 'months_since_last_delinquent', 'number_of_open_accounts', 'number_of_credit_problems', 'current_credit_balance', 'maximum_open_credit', 'bankruptcies', 'tax_liens']\n",
      "\n",
      "First 5 rows: \n",
      "                                loan_id                           customer_id  \\\n",
      "0  14dd8831-6af5-400b-83ec-68e61888a048  981165ec-3274-42f5-a3b4-d104041a9ca9   \n",
      "1  4771cc26-131a-45db-b5aa-537ea4ba5342  2de017a3-2e01-49cb-a581-08169e83be29   \n",
      "2  4eed4e6a-aa2f-4c91-8651-ce984ee8fb26  5efb2b2b-bf11-4dfd-a572-3761a2694725   \n",
      "3  77598f7b-32e7-4e3b-a6e5-06ba0d98fe8a  e777faab-98ae-45af-9a86-7ce5b33b1011   \n",
      "4  d4062e70-befa-4995-8643-a0de73938182  81536ad9-5ccf-4eb8-befb-47a4d608658e   \n",
      "\n",
      "  loan_status  current_loan_amount        term  credit_score  annual_income  \\\n",
      "0  Fully Paid             445412.0  Short Term         709.0      1167493.0   \n",
      "1  Fully Paid             262328.0  Short Term           NaN            NaN   \n",
      "2  Fully Paid           99999999.0  Short Term         741.0      2231892.0   \n",
      "3  Fully Paid             347666.0   Long Term         721.0       806949.0   \n",
      "4  Fully Paid             176220.0  Short Term           NaN            NaN   \n",
      "\n",
      "  years_in_current_job home_ownership             purpose  monthly_debt  \\\n",
      "0              8 years  Home Mortgage   Home Improvements       5214.74   \n",
      "1            10+ years  Home Mortgage  Debt Consolidation      33295.98   \n",
      "2              8 years       Own Home  Debt Consolidation      29200.53   \n",
      "3              3 years       Own Home  Debt Consolidation       8741.90   \n",
      "4              5 years           Rent  Debt Consolidation      20639.70   \n",
      "\n",
      "   years_of_credit_history  months_since_last_delinquent  \\\n",
      "0                     17.2                           NaN   \n",
      "1                     21.1                           8.0   \n",
      "2                     14.9                          29.0   \n",
      "3                     12.0                           NaN   \n",
      "4                      6.1                           NaN   \n",
      "\n",
      "   number_of_open_accounts  number_of_credit_problems  current_credit_balance  \\\n",
      "0                      6.0                        1.0                228190.0   \n",
      "1                     35.0                        0.0                229976.0   \n",
      "2                     18.0                        1.0                297996.0   \n",
      "3                      9.0                        0.0                256329.0   \n",
      "4                     15.0                        0.0                253460.0   \n",
      "\n",
      "   maximum_open_credit  bankruptcies  tax_liens  \n",
      "0             416746.0           1.0        0.0  \n",
      "1             850784.0           0.0        0.0  \n",
      "2             750090.0           0.0        0.0  \n",
      "3             386958.0           0.0        0.0  \n",
      "4             427174.0           0.0        0.0  \n"
     ]
    }
   ],
   "source": [
    "print(f\"Dataset shape: {df.shape}\")\n",
    "print(f\"Columns: {df.columns.tolist()}\")\n",
    "print(f\"\\nFirst 5 rows: \")\n",
    "print(df.head())"
   ]
  },
  {
   "cell_type": "markdown",
   "id": "36fb4e1a",
   "metadata": {},
   "source": [
    "Check Datatypes"
   ]
  },
  {
   "cell_type": "code",
   "execution_count": 6,
   "id": "d0933c77",
   "metadata": {},
   "outputs": [
    {
     "name": "stdout",
     "output_type": "stream",
     "text": [
      "<class 'pandas.core.frame.DataFrame'>\n",
      "RangeIndex: 100514 entries, 0 to 100513\n",
      "Data columns (total 19 columns):\n",
      " #   Column                        Non-Null Count   Dtype  \n",
      "---  ------                        --------------   -----  \n",
      " 0   loan_id                       100000 non-null  object \n",
      " 1   customer_id                   100000 non-null  object \n",
      " 2   loan_status                   100000 non-null  object \n",
      " 3   current_loan_amount           100000 non-null  float64\n",
      " 4   term                          100000 non-null  object \n",
      " 5   credit_score                  80846 non-null   float64\n",
      " 6   annual_income                 80846 non-null   float64\n",
      " 7   years_in_current_job          95778 non-null   object \n",
      " 8   home_ownership                100000 non-null  object \n",
      " 9   purpose                       100000 non-null  object \n",
      " 10  monthly_debt                  100000 non-null  float64\n",
      " 11  years_of_credit_history       100000 non-null  float64\n",
      " 12  months_since_last_delinquent  46859 non-null   float64\n",
      " 13  number_of_open_accounts       100000 non-null  float64\n",
      " 14  number_of_credit_problems     100000 non-null  float64\n",
      " 15  current_credit_balance        100000 non-null  float64\n",
      " 16  maximum_open_credit           99998 non-null   float64\n",
      " 17  bankruptcies                  99796 non-null   float64\n",
      " 18  tax_liens                     99990 non-null   float64\n",
      "dtypes: float64(12), object(7)\n",
      "memory usage: 14.6+ MB\n",
      "\n",
      "Data info: None\n"
     ]
    }
   ],
   "source": [
    "print(f\"\\nData info: {df.info()}\")"
   ]
  },
  {
   "cell_type": "code",
   "execution_count": 8,
   "id": "8a7d8914",
   "metadata": {},
   "outputs": [
    {
     "name": "stdout",
     "output_type": "stream",
     "text": [
      "\n",
      "Missing Values: \n",
      "loan_id                           514\n",
      "customer_id                       514\n",
      "loan_status                       514\n",
      "current_loan_amount               514\n",
      "term                              514\n",
      "credit_score                    19668\n",
      "annual_income                   19668\n",
      "years_in_current_job             4736\n",
      "home_ownership                    514\n",
      "purpose                           514\n",
      "monthly_debt                      514\n",
      "years_of_credit_history           514\n",
      "months_since_last_delinquent    53655\n",
      "number_of_open_accounts           514\n",
      "number_of_credit_problems         514\n",
      "current_credit_balance            514\n",
      "maximum_open_credit               516\n",
      "bankruptcies                      718\n",
      "tax_liens                         524\n",
      "dtype: int64\n"
     ]
    }
   ],
   "source": [
    "print(f\"\\nMissing Values: \")\n",
    "print(df.isnull().sum())"
   ]
  },
  {
   "cell_type": "markdown",
   "id": "cc87e287",
   "metadata": {},
   "source": [
    "Create a copy for cleaning"
   ]
  },
  {
   "cell_type": "code",
   "execution_count": 9,
   "id": "bcc07b7d",
   "metadata": {},
   "outputs": [],
   "source": [
    "dfc = df.copy()"
   ]
  },
  {
   "cell_type": "code",
   "execution_count": 10,
   "id": "9c8a71a7",
   "metadata": {},
   "outputs": [
    {
     "name": "stdout",
     "output_type": "stream",
     "text": [
      "After removing missing loan status: 100000 records\n"
     ]
    }
   ],
   "source": [
    "dfc=dfc.dropna(subset=['loan_status'])\n",
    "print(f\"After removing missing loan status: {len(dfc)} records\")"
   ]
  },
  {
   "cell_type": "code",
   "execution_count": 11,
   "id": "2bb32fa6",
   "metadata": {},
   "outputs": [
    {
     "name": "stdout",
     "output_type": "stream",
     "text": [
      "loan_id                             0\n",
      "customer_id                         0\n",
      "loan_status                         0\n",
      "current_loan_amount                 0\n",
      "term                                0\n",
      "credit_score                    19154\n",
      "annual_income                   19154\n",
      "years_in_current_job             4222\n",
      "home_ownership                      0\n",
      "purpose                             0\n",
      "monthly_debt                        0\n",
      "years_of_credit_history             0\n",
      "months_since_last_delinquent    53141\n",
      "number_of_open_accounts             0\n",
      "number_of_credit_problems           0\n",
      "current_credit_balance              0\n",
      "maximum_open_credit                 2\n",
      "bankruptcies                      204\n",
      "tax_liens                          10\n",
      "dtype: int64\n"
     ]
    }
   ],
   "source": [
    "print(dfc.isnull().sum())"
   ]
  },
  {
   "cell_type": "code",
   "execution_count": 12,
   "id": "5164b137",
   "metadata": {},
   "outputs": [],
   "source": [
    "numerical_cols=[\n",
    "                'current_loan_amount',\n",
    "                'credit_score',\n",
    "                'annual_income',\n",
    "                'monthly_debt',\n",
    "                'years_of_credit_history',\n",
    "                'months_since_last_delinquent',\n",
    "                'number_of_open_accounts',\n",
    "                'number_of_credit_problems',\n",
    "                'current_credit_balance',\n",
    "                'maximum_open_credit',\n",
    "                'bankruptcies',\n",
    "                'tax_liens']"
   ]
  },
  {
   "cell_type": "code",
   "execution_count": 13,
   "id": "71eb977d",
   "metadata": {},
   "outputs": [
    {
     "name": "stderr",
     "output_type": "stream",
     "text": [
      "/var/folders/_w/n63k25_948b11n_ktsfq3_dh0000gn/T/ipykernel_21485/2289861481.py:2: FutureWarning: A value is trying to be set on a copy of a DataFrame or Series through chained assignment using an inplace method.\n",
      "The behavior will change in pandas 3.0. This inplace method will never work because the intermediate object on which we are setting values always behaves as a copy.\n",
      "\n",
      "For example, when doing 'df[col].method(value, inplace=True)', try using 'df.method({col: value}, inplace=True)' or df[col] = df[col].method(value) instead, to perform the operation inplace on the original object.\n",
      "\n",
      "\n",
      "  dfc[col].fillna(dfc[col].median(),inplace=True)\n"
     ]
    }
   ],
   "source": [
    "for col in numerical_cols:\n",
    "    dfc[col].fillna(dfc[col].median(),inplace=True)"
   ]
  },
  {
   "cell_type": "markdown",
   "id": "ee71832f",
   "metadata": {},
   "source": [
    "Categorical imputation"
   ]
  },
  {
   "cell_type": "code",
   "execution_count": 14,
   "id": "baa2dff0",
   "metadata": {},
   "outputs": [],
   "source": [
    "dfc.years_in_current_job.fillna(\"Unknown\",inplace=True)\n",
    "dfc.term.fillna(dfc.term.mode()[0],inplace=True)\n",
    "dfc.home_ownership.fillna('Unknown',inplace=True)\n",
    "dfc.purpose.fillna('Unknown',inplace=True)\n"
   ]
  },
  {
   "cell_type": "code",
   "execution_count": 15,
   "id": "d9b1ae82",
   "metadata": {},
   "outputs": [
    {
     "name": "stdout",
     "output_type": "stream",
     "text": [
      "loan_id                         0\n",
      "customer_id                     0\n",
      "loan_status                     0\n",
      "current_loan_amount             0\n",
      "term                            0\n",
      "credit_score                    0\n",
      "annual_income                   0\n",
      "years_in_current_job            0\n",
      "home_ownership                  0\n",
      "purpose                         0\n",
      "monthly_debt                    0\n",
      "years_of_credit_history         0\n",
      "months_since_last_delinquent    0\n",
      "number_of_open_accounts         0\n",
      "number_of_credit_problems       0\n",
      "current_credit_balance          0\n",
      "maximum_open_credit             0\n",
      "bankruptcies                    0\n",
      "tax_liens                       0\n",
      "dtype: int64\n"
     ]
    }
   ],
   "source": [
    "print(dfc.isnull().sum())"
   ]
  },
  {
   "cell_type": "code",
   "execution_count": 16,
   "id": "4a8e318e",
   "metadata": {},
   "outputs": [
    {
     "name": "stderr",
     "output_type": "stream",
     "text": [
      "/var/folders/_w/n63k25_948b11n_ktsfq3_dh0000gn/T/ipykernel_21485/1349843848.py:1: FutureWarning: A value is trying to be set on a copy of a DataFrame or Series through chained assignment using an inplace method.\n",
      "The behavior will change in pandas 3.0. This inplace method will never work because the intermediate object on which we are setting values always behaves as a copy.\n",
      "\n",
      "For example, when doing 'df[col].method(value, inplace=True)', try using 'df.method({col: value}, inplace=True)' or df[col] = df[col].method(value) instead, to perform the operation inplace on the original object.\n",
      "\n",
      "\n",
      "  dfc.months_since_last_delinquent.fillna(999,inplace=True)\n"
     ]
    }
   ],
   "source": [
    "dfc.months_since_last_delinquent.fillna(999,inplace=True)"
   ]
  },
  {
   "cell_type": "code",
   "execution_count": 17,
   "id": "71653583",
   "metadata": {},
   "outputs": [
    {
     "name": "stdout",
     "output_type": "stream",
     "text": [
      "Cleaned dataset is saved\n"
     ]
    }
   ],
   "source": [
    "dfc.to_csv(\"Cleaned_data.csv\",index=False)\n",
    "print(\"Cleaned dataset is saved\")"
   ]
  }
 ],
 "metadata": {
  "kernelspec": {
   "display_name": "base",
   "language": "python",
   "name": "python3"
  },
  "language_info": {
   "codemirror_mode": {
    "name": "ipython",
    "version": 3
   },
   "file_extension": ".py",
   "mimetype": "text/x-python",
   "name": "python",
   "nbconvert_exporter": "python",
   "pygments_lexer": "ipython3",
   "version": "3.13.5"
  }
 },
 "nbformat": 4,
 "nbformat_minor": 5
}
