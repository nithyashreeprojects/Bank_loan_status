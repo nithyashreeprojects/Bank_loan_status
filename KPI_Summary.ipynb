{
 "cells": [
  {
   "cell_type": "code",
   "execution_count": 1,
   "id": "efd2b112",
   "metadata": {},
   "outputs": [],
   "source": [
    "import pandas as pd"
   ]
  },
  {
   "cell_type": "code",
   "execution_count": 6,
   "id": "531ceb26",
   "metadata": {},
   "outputs": [],
   "source": [
    "data_path = 'clean_for_excel.csv'"
   ]
  },
  {
   "cell_type": "code",
   "execution_count": 7,
   "id": "dd971f1d",
   "metadata": {},
   "outputs": [],
   "source": [
    "df = pd.read_csv(data_path)"
   ]
  },
  {
   "cell_type": "markdown",
   "id": "c76d18f3",
   "metadata": {},
   "source": [
    "Total loans"
   ]
  },
  {
   "cell_type": "code",
   "execution_count": 12,
   "id": "53c04be2",
   "metadata": {},
   "outputs": [],
   "source": [
    "total_loans=len(df)"
   ]
  },
  {
   "cell_type": "markdown",
   "id": "d86c5acd",
   "metadata": {},
   "source": [
    "Average Loan Amount"
   ]
  },
  {
   "cell_type": "code",
   "execution_count": 13,
   "id": "985eb313",
   "metadata": {},
   "outputs": [],
   "source": [
    "avg_loan_amount = df['current_loan_amount'].mean()"
   ]
  },
  {
   "cell_type": "markdown",
   "id": "2245ce29",
   "metadata": {},
   "source": [
    "Average credit score"
   ]
  },
  {
   "cell_type": "code",
   "execution_count": 14,
   "id": "81f8403c",
   "metadata": {},
   "outputs": [],
   "source": [
    "avg_credit_score=df['credit_score'].mean()"
   ]
  },
  {
   "cell_type": "markdown",
   "id": "9cb63b39",
   "metadata": {},
   "source": [
    "Average income"
   ]
  },
  {
   "cell_type": "code",
   "execution_count": 15,
   "id": "4136e56d",
   "metadata": {},
   "outputs": [],
   "source": [
    "average_income=df['annual_income'].mean()"
   ]
  },
  {
   "cell_type": "markdown",
   "id": "6b606cdd",
   "metadata": {},
   "source": [
    "High Risk %"
   ]
  },
  {
   "cell_type": "code",
   "execution_count": 16,
   "id": "ddbd1608",
   "metadata": {},
   "outputs": [],
   "source": [
    "high_risk_pct=(df['customer_segment']=='High Risk').mean() * 100"
   ]
  },
  {
   "cell_type": "markdown",
   "id": "4ad0dd10",
   "metadata": {},
   "source": [
    "Premium %"
   ]
  },
  {
   "cell_type": "code",
   "execution_count": 17,
   "id": "78ebb246",
   "metadata": {},
   "outputs": [],
   "source": [
    "premium_pct = (df['customer_segment']=='Premium').mean()*100"
   ]
  },
  {
   "cell_type": "markdown",
   "id": "b38df865",
   "metadata": {},
   "source": [
    "Default Charged off %"
   ]
  },
  {
   "cell_type": "code",
   "execution_count": 19,
   "id": "d5cedf1d",
   "metadata": {},
   "outputs": [],
   "source": [
    "default_pct=(df['customer_segment']=='Charged Off').mean()*100"
   ]
  },
  {
   "cell_type": "code",
   "execution_count": 18,
   "id": "67bfd34b",
   "metadata": {},
   "outputs": [],
   "source": [
    "assert df['credit_score'].notnull().all()\n",
    "assert df['current_loan_amount'].notnull().all()\n",
    "assert df['annual_income'].notnull().all()"
   ]
  },
  {
   "cell_type": "code",
   "execution_count": 20,
   "id": "1cb36bf8",
   "metadata": {},
   "outputs": [],
   "source": [
    "kpi_summary = {\n",
    "    'Total Loans': total_loans,\n",
    "    'Average Loan Amount': round(avg_loan_amount, 2),\n",
    "    'Average Credit Score': round(avg_credit_score, 2),\n",
    "    'Average Income': round(average_income, 2),\n",
    "    'High Risk %': round(high_risk_pct, 2),\n",
    "    'Premium %': round(premium_pct, 2),\n",
    "    'Default (Charged Off) %': round(default_pct, 2)\n",
    "}\n"
   ]
  },
  {
   "cell_type": "code",
   "execution_count": 21,
   "id": "848f675d",
   "metadata": {},
   "outputs": [
    {
     "data": {
      "text/html": [
       "<div>\n",
       "<style scoped>\n",
       "    .dataframe tbody tr th:only-of-type {\n",
       "        vertical-align: middle;\n",
       "    }\n",
       "\n",
       "    .dataframe tbody tr th {\n",
       "        vertical-align: top;\n",
       "    }\n",
       "\n",
       "    .dataframe thead th {\n",
       "        text-align: right;\n",
       "    }\n",
       "</style>\n",
       "<table border=\"1\" class=\"dataframe\">\n",
       "  <thead>\n",
       "    <tr style=\"text-align: right;\">\n",
       "      <th></th>\n",
       "      <th>Value</th>\n",
       "    </tr>\n",
       "    <tr>\n",
       "      <th>KPI</th>\n",
       "      <th></th>\n",
       "    </tr>\n",
       "  </thead>\n",
       "  <tbody>\n",
       "    <tr>\n",
       "      <th>Total Loans</th>\n",
       "      <td>100,000.00</td>\n",
       "    </tr>\n",
       "    <tr>\n",
       "      <th>Average Loan Amount</th>\n",
       "      <td>307,149.29</td>\n",
       "    </tr>\n",
       "    <tr>\n",
       "      <th>Average Credit Score</th>\n",
       "      <td>724.10</td>\n",
       "    </tr>\n",
       "    <tr>\n",
       "      <th>Average Income</th>\n",
       "      <td>1,327,669.58</td>\n",
       "    </tr>\n",
       "    <tr>\n",
       "      <th>High Risk %</th>\n",
       "      <td>1.41</td>\n",
       "    </tr>\n",
       "    <tr>\n",
       "      <th>Premium %</th>\n",
       "      <td>6.51</td>\n",
       "    </tr>\n",
       "    <tr>\n",
       "      <th>Default (Charged Off) %</th>\n",
       "      <td>0.00</td>\n",
       "    </tr>\n",
       "  </tbody>\n",
       "</table>\n",
       "</div>"
      ],
      "text/plain": [
       "                               Value\n",
       "KPI                                 \n",
       "Total Loans               100,000.00\n",
       "Average Loan Amount       307,149.29\n",
       "Average Credit Score          724.10\n",
       "Average Income          1,327,669.58\n",
       "High Risk %                     1.41\n",
       "Premium %                       6.51\n",
       "Default (Charged Off) %         0.00"
      ]
     },
     "metadata": {},
     "output_type": "display_data"
    }
   ],
   "source": [
    "kpi_df = pd.DataFrame.from_dict(kpi_summary, orient='index', columns=['Value'])\n",
    "kpi_df.index.name = 'KPI'\n",
    "display(kpi_df)"
   ]
  },
  {
   "cell_type": "code",
   "execution_count": 22,
   "id": "8eff4d59",
   "metadata": {},
   "outputs": [],
   "source": [
    "kpi_df.to_csv('kpi_summary.csv')"
   ]
  }
 ],
 "metadata": {
  "kernelspec": {
   "display_name": "base",
   "language": "python",
   "name": "python3"
  },
  "language_info": {
   "codemirror_mode": {
    "name": "ipython",
    "version": 3
   },
   "file_extension": ".py",
   "mimetype": "text/x-python",
   "name": "python",
   "nbconvert_exporter": "python",
   "pygments_lexer": "ipython3",
   "version": "3.13.5"
  }
 },
 "nbformat": 4,
 "nbformat_minor": 5
}
