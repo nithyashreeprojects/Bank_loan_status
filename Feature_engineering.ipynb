{
 "cells": [
  {
   "cell_type": "code",
   "execution_count": 1,
   "id": "874c0475",
   "metadata": {},
   "outputs": [],
   "source": [
    "import numpy as np\n",
    "import pandas as pd"
   ]
  },
  {
   "cell_type": "code",
   "execution_count": 2,
   "id": "1202d300",
   "metadata": {},
   "outputs": [],
   "source": [
    "df = pd.read_csv(\"/Users/starboy/Documents/Projects/Bank_loan_status/Cleaned_data.csv\")"
   ]
  },
  {
   "cell_type": "code",
   "execution_count": 3,
   "id": "091f8225",
   "metadata": {},
   "outputs": [
    {
     "data": {
      "text/html": [
       "<div>\n",
       "<style scoped>\n",
       "    .dataframe tbody tr th:only-of-type {\n",
       "        vertical-align: middle;\n",
       "    }\n",
       "\n",
       "    .dataframe tbody tr th {\n",
       "        vertical-align: top;\n",
       "    }\n",
       "\n",
       "    .dataframe thead th {\n",
       "        text-align: right;\n",
       "    }\n",
       "</style>\n",
       "<table border=\"1\" class=\"dataframe\">\n",
       "  <thead>\n",
       "    <tr style=\"text-align: right;\">\n",
       "      <th></th>\n",
       "      <th>loan_id</th>\n",
       "      <th>customer_id</th>\n",
       "      <th>loan_status</th>\n",
       "      <th>current_loan_amount</th>\n",
       "      <th>term</th>\n",
       "      <th>credit_score</th>\n",
       "      <th>annual_income</th>\n",
       "      <th>years_in_current_job</th>\n",
       "      <th>home_ownership</th>\n",
       "      <th>purpose</th>\n",
       "      <th>monthly_debt</th>\n",
       "      <th>years_of_credit_history</th>\n",
       "      <th>months_since_last_delinquent</th>\n",
       "      <th>number_of_open_accounts</th>\n",
       "      <th>number_of_credit_problems</th>\n",
       "      <th>current_credit_balance</th>\n",
       "      <th>maximum_open_credit</th>\n",
       "      <th>bankruptcies</th>\n",
       "      <th>tax_liens</th>\n",
       "    </tr>\n",
       "  </thead>\n",
       "  <tbody>\n",
       "    <tr>\n",
       "      <th>0</th>\n",
       "      <td>14dd8831-6af5-400b-83ec-68e61888a048</td>\n",
       "      <td>981165ec-3274-42f5-a3b4-d104041a9ca9</td>\n",
       "      <td>Fully Paid</td>\n",
       "      <td>445412.0</td>\n",
       "      <td>Short Term</td>\n",
       "      <td>709.0</td>\n",
       "      <td>1167493.0</td>\n",
       "      <td>8 years</td>\n",
       "      <td>Home Mortgage</td>\n",
       "      <td>Home Improvements</td>\n",
       "      <td>5214.74</td>\n",
       "      <td>17.2</td>\n",
       "      <td>32.0</td>\n",
       "      <td>6.0</td>\n",
       "      <td>1.0</td>\n",
       "      <td>228190.0</td>\n",
       "      <td>416746.0</td>\n",
       "      <td>1.0</td>\n",
       "      <td>0.0</td>\n",
       "    </tr>\n",
       "    <tr>\n",
       "      <th>1</th>\n",
       "      <td>4771cc26-131a-45db-b5aa-537ea4ba5342</td>\n",
       "      <td>2de017a3-2e01-49cb-a581-08169e83be29</td>\n",
       "      <td>Fully Paid</td>\n",
       "      <td>262328.0</td>\n",
       "      <td>Short Term</td>\n",
       "      <td>724.0</td>\n",
       "      <td>1174162.0</td>\n",
       "      <td>10+ years</td>\n",
       "      <td>Home Mortgage</td>\n",
       "      <td>Debt Consolidation</td>\n",
       "      <td>33295.98</td>\n",
       "      <td>21.1</td>\n",
       "      <td>8.0</td>\n",
       "      <td>35.0</td>\n",
       "      <td>0.0</td>\n",
       "      <td>229976.0</td>\n",
       "      <td>850784.0</td>\n",
       "      <td>0.0</td>\n",
       "      <td>0.0</td>\n",
       "    </tr>\n",
       "    <tr>\n",
       "      <th>2</th>\n",
       "      <td>4eed4e6a-aa2f-4c91-8651-ce984ee8fb26</td>\n",
       "      <td>5efb2b2b-bf11-4dfd-a572-3761a2694725</td>\n",
       "      <td>Fully Paid</td>\n",
       "      <td>99999999.0</td>\n",
       "      <td>Short Term</td>\n",
       "      <td>741.0</td>\n",
       "      <td>2231892.0</td>\n",
       "      <td>8 years</td>\n",
       "      <td>Own Home</td>\n",
       "      <td>Debt Consolidation</td>\n",
       "      <td>29200.53</td>\n",
       "      <td>14.9</td>\n",
       "      <td>29.0</td>\n",
       "      <td>18.0</td>\n",
       "      <td>1.0</td>\n",
       "      <td>297996.0</td>\n",
       "      <td>750090.0</td>\n",
       "      <td>0.0</td>\n",
       "      <td>0.0</td>\n",
       "    </tr>\n",
       "    <tr>\n",
       "      <th>3</th>\n",
       "      <td>77598f7b-32e7-4e3b-a6e5-06ba0d98fe8a</td>\n",
       "      <td>e777faab-98ae-45af-9a86-7ce5b33b1011</td>\n",
       "      <td>Fully Paid</td>\n",
       "      <td>347666.0</td>\n",
       "      <td>Long Term</td>\n",
       "      <td>721.0</td>\n",
       "      <td>806949.0</td>\n",
       "      <td>3 years</td>\n",
       "      <td>Own Home</td>\n",
       "      <td>Debt Consolidation</td>\n",
       "      <td>8741.90</td>\n",
       "      <td>12.0</td>\n",
       "      <td>32.0</td>\n",
       "      <td>9.0</td>\n",
       "      <td>0.0</td>\n",
       "      <td>256329.0</td>\n",
       "      <td>386958.0</td>\n",
       "      <td>0.0</td>\n",
       "      <td>0.0</td>\n",
       "    </tr>\n",
       "    <tr>\n",
       "      <th>4</th>\n",
       "      <td>d4062e70-befa-4995-8643-a0de73938182</td>\n",
       "      <td>81536ad9-5ccf-4eb8-befb-47a4d608658e</td>\n",
       "      <td>Fully Paid</td>\n",
       "      <td>176220.0</td>\n",
       "      <td>Short Term</td>\n",
       "      <td>724.0</td>\n",
       "      <td>1174162.0</td>\n",
       "      <td>5 years</td>\n",
       "      <td>Rent</td>\n",
       "      <td>Debt Consolidation</td>\n",
       "      <td>20639.70</td>\n",
       "      <td>6.1</td>\n",
       "      <td>32.0</td>\n",
       "      <td>15.0</td>\n",
       "      <td>0.0</td>\n",
       "      <td>253460.0</td>\n",
       "      <td>427174.0</td>\n",
       "      <td>0.0</td>\n",
       "      <td>0.0</td>\n",
       "    </tr>\n",
       "  </tbody>\n",
       "</table>\n",
       "</div>"
      ],
      "text/plain": [
       "                                loan_id                           customer_id  \\\n",
       "0  14dd8831-6af5-400b-83ec-68e61888a048  981165ec-3274-42f5-a3b4-d104041a9ca9   \n",
       "1  4771cc26-131a-45db-b5aa-537ea4ba5342  2de017a3-2e01-49cb-a581-08169e83be29   \n",
       "2  4eed4e6a-aa2f-4c91-8651-ce984ee8fb26  5efb2b2b-bf11-4dfd-a572-3761a2694725   \n",
       "3  77598f7b-32e7-4e3b-a6e5-06ba0d98fe8a  e777faab-98ae-45af-9a86-7ce5b33b1011   \n",
       "4  d4062e70-befa-4995-8643-a0de73938182  81536ad9-5ccf-4eb8-befb-47a4d608658e   \n",
       "\n",
       "  loan_status  current_loan_amount        term  credit_score  annual_income  \\\n",
       "0  Fully Paid             445412.0  Short Term         709.0      1167493.0   \n",
       "1  Fully Paid             262328.0  Short Term         724.0      1174162.0   \n",
       "2  Fully Paid           99999999.0  Short Term         741.0      2231892.0   \n",
       "3  Fully Paid             347666.0   Long Term         721.0       806949.0   \n",
       "4  Fully Paid             176220.0  Short Term         724.0      1174162.0   \n",
       "\n",
       "  years_in_current_job home_ownership             purpose  monthly_debt  \\\n",
       "0              8 years  Home Mortgage   Home Improvements       5214.74   \n",
       "1            10+ years  Home Mortgage  Debt Consolidation      33295.98   \n",
       "2              8 years       Own Home  Debt Consolidation      29200.53   \n",
       "3              3 years       Own Home  Debt Consolidation       8741.90   \n",
       "4              5 years           Rent  Debt Consolidation      20639.70   \n",
       "\n",
       "   years_of_credit_history  months_since_last_delinquent  \\\n",
       "0                     17.2                          32.0   \n",
       "1                     21.1                           8.0   \n",
       "2                     14.9                          29.0   \n",
       "3                     12.0                          32.0   \n",
       "4                      6.1                          32.0   \n",
       "\n",
       "   number_of_open_accounts  number_of_credit_problems  current_credit_balance  \\\n",
       "0                      6.0                        1.0                228190.0   \n",
       "1                     35.0                        0.0                229976.0   \n",
       "2                     18.0                        1.0                297996.0   \n",
       "3                      9.0                        0.0                256329.0   \n",
       "4                     15.0                        0.0                253460.0   \n",
       "\n",
       "   maximum_open_credit  bankruptcies  tax_liens  \n",
       "0             416746.0           1.0        0.0  \n",
       "1             850784.0           0.0        0.0  \n",
       "2             750090.0           0.0        0.0  \n",
       "3             386958.0           0.0        0.0  \n",
       "4             427174.0           0.0        0.0  "
      ]
     },
     "execution_count": 3,
     "metadata": {},
     "output_type": "execute_result"
    }
   ],
   "source": [
    "df.head()"
   ]
  },
  {
   "cell_type": "markdown",
   "id": "404fd3a2",
   "metadata": {},
   "source": [
    "#### **1. Debt-To-Income Ratio (DTI)**"
   ]
  },
  {
   "cell_type": "code",
   "execution_count": 4,
   "id": "daf6704a",
   "metadata": {},
   "outputs": [],
   "source": [
    "df['debt_to_income_ratio'] = df.monthly_debt / (df.annual_income / 12)"
   ]
  },
  {
   "cell_type": "markdown",
   "id": "5c6f7263",
   "metadata": {},
   "source": [
    "#### **2. Credit Utilization Ratio**"
   ]
  },
  {
   "cell_type": "code",
   "execution_count": 5,
   "id": "5269f18a",
   "metadata": {},
   "outputs": [],
   "source": [
    "df['credit_utilization'] = df.current_credit_balance / df.maximum_open_credit.replace(0,np.nan)"
   ]
  },
  {
   "cell_type": "markdown",
   "id": "f62c9256",
   "metadata": {},
   "source": [
    "#### **3. Loan-To-Income Ratio**"
   ]
  },
  {
   "cell_type": "code",
   "execution_count": 6,
   "id": "adccd765",
   "metadata": {},
   "outputs": [],
   "source": [
    "df['loan_to_income_ratio'] = df.current_loan_amount / df.annual_income.replace(0,np.nan)"
   ]
  },
  {
   "cell_type": "markdown",
   "id": "74e08c41",
   "metadata": {},
   "source": [
    "**Replace infinities and NaNs with 0 for ratios**"
   ]
  },
  {
   "cell_type": "code",
   "execution_count": 7,
   "id": "a9442625",
   "metadata": {},
   "outputs": [],
   "source": [
    "for col in ['debt_to_income_ratio','credit_utilization','loan_to_income_ratio']:\n",
    "    df[col]= df[col].replace([np.inf,-np.inf],np.nan).fillna(0)"
   ]
  },
  {
   "cell_type": "markdown",
   "id": "42bb541b",
   "metadata": {},
   "source": [
    "#### **4.Risk Score (0-100 scale)**"
   ]
  },
  {
   "cell_type": "code",
   "execution_count": 8,
   "id": "5531078f",
   "metadata": {},
   "outputs": [],
   "source": [
    "def calc_risk(row):\n",
    "    score = 0\n",
    "    if row['credit_score'] < 600: score += 50\n",
    "    elif row['credit_score'] < 700: score += 30\n",
    "    if row['debt_to_income_ratio'] > 0.4: score += 30\n",
    "    score += row['number_of_credit_problems'] * 15\n",
    "    score += row['bankruptcies'] * 25\n",
    "    return max(0, min(100, score))"
   ]
  },
  {
   "cell_type": "code",
   "execution_count": 9,
   "id": "bce6eb04",
   "metadata": {},
   "outputs": [],
   "source": [
    "df['risk_score']=df.apply(calc_risk,axis=1)"
   ]
  },
  {
   "cell_type": "markdown",
   "id": "d5f2bf16",
   "metadata": {},
   "source": [
    "#### **5.Customer Segment**"
   ]
  },
  {
   "cell_type": "code",
   "execution_count": 10,
   "id": "a931e3ed",
   "metadata": {},
   "outputs": [],
   "source": [
    "def seg(row):\n",
    "    if row['annual_income'] >= 100000 and row['credit_score'] >= 750:\n",
    "        return 'Premium'\n",
    "    if row['risk_score'] >= 70:\n",
    "        return 'High Risk'\n",
    "    if row['annual_income'] >= 50000 and row['credit_score'] >= 650:\n",
    "        return 'Standard'\n",
    "    return 'Subprime'\n"
   ]
  },
  {
   "cell_type": "code",
   "execution_count": 11,
   "id": "6606b968",
   "metadata": {},
   "outputs": [],
   "source": [
    "df['customer_segment']=df.apply(seg,axis=1)"
   ]
  },
  {
   "cell_type": "markdown",
   "id": "57c5bc9f",
   "metadata": {},
   "source": [
    "Getting realisting loan amounts"
   ]
  },
  {
   "cell_type": "code",
   "execution_count": 12,
   "id": "9023565f",
   "metadata": {},
   "outputs": [],
   "source": [
    "df_clean=df.copy()"
   ]
  },
  {
   "cell_type": "code",
   "execution_count": 13,
   "id": "ce263cb1",
   "metadata": {},
   "outputs": [],
   "source": [
    "realistic_loans= df_clean[df_clean['current_loan_amount']<10000000]['current_loan_amount']\n",
    "median_loan=realistic_loans.median()"
   ]
  },
  {
   "cell_type": "code",
   "execution_count": 14,
   "id": "bdc34bb8",
   "metadata": {},
   "outputs": [],
   "source": [
    "df_clean.loc[df_clean['current_loan_amount']== 99999999,'current_loan_amount'] = median_loan"
   ]
  },
  {
   "cell_type": "code",
   "execution_count": 15,
   "id": "7fdadafe",
   "metadata": {},
   "outputs": [],
   "source": [
    "df_clean['loan_to_income_ratio'] = df_clean['current_loan_amount'] / df_clean['annual_income']"
   ]
  },
  {
   "cell_type": "code",
   "execution_count": 16,
   "id": "1d6d1d32",
   "metadata": {},
   "outputs": [
    {
     "name": "stdout",
     "output_type": "stream",
     "text": [
      "Fixed 11484 placeholder loan amounts\n"
     ]
    }
   ],
   "source": [
    "print(f\"Fixed {(df['current_loan_amount'] == 99999999).sum()} placeholder loan amounts\")"
   ]
  },
  {
   "cell_type": "code",
   "execution_count": 17,
   "id": "4cc8f173",
   "metadata": {},
   "outputs": [],
   "source": [
    "df_clean.to_csv('clean_for_excel.csv',index=False)"
   ]
  }
 ],
 "metadata": {
  "kernelspec": {
   "display_name": "base",
   "language": "python",
   "name": "python3"
  },
  "language_info": {
   "codemirror_mode": {
    "name": "ipython",
    "version": 3
   },
   "file_extension": ".py",
   "mimetype": "text/x-python",
   "name": "python",
   "nbconvert_exporter": "python",
   "pygments_lexer": "ipython3",
   "version": "3.13.5"
  }
 },
 "nbformat": 4,
 "nbformat_minor": 5
}
